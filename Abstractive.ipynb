{
  "nbformat": 4,
  "nbformat_minor": 0,
  "metadata": {
    "colab": {
      "provenance": []
    },
    "kernelspec": {
      "name": "python3",
      "display_name": "Python 3"
    },
    "language_info": {
      "name": "python"
    },
    "accelerator": "GPU"
  },
  "cells": [
    {
      "cell_type": "code",
      "source": [
        "!pip install transformers datasets sentencepiece rouge -qq"
      ],
      "metadata": {
        "id": "25DCPU17w5GR"
      },
      "execution_count": null,
      "outputs": []
    },
    {
      "cell_type": "code",
      "source": [
        "import torch\n",
        "import pandas as pd\n",
        "from rouge import Rouge\n",
        "from datasets import load_dataset\n",
        "from transformers import AutoModelForSeq2SeqLM, AutoTokenizer"
      ],
      "metadata": {
        "id": "7P9DI3qfw5Ds"
      },
      "execution_count": null,
      "outputs": []
    },
    {
      "cell_type": "code",
      "source": [
        "rouge = Rouge()\n",
        "dataset = load_dataset(\"d0r1h/ILC\", split='test')s"
      ],
      "metadata": {
        "id": "m36WBiSew5Bc"
      },
      "execution_count": null,
      "outputs": []
    },
    {
      "cell_type": "code",
      "source": [
        "CasesText = dataset['Case']\n",
        "GoldSummary = dataset['Summary']"
      ],
      "metadata": {
        "id": "9vFWcPE2w4_Y"
      },
      "execution_count": null,
      "outputs": []
    },
    {
      "cell_type": "code",
      "source": [
        "len(CasesText), len(GoldSummary)"
      ],
      "metadata": {
        "colab": {
          "base_uri": "https://localhost:8080/"
        },
        "id": "2wSLjatVw49k",
        "outputId": "24117373-c6e7-4fe2-b131-cb532e6f1345"
      },
      "execution_count": null,
      "outputs": [
        {
          "output_type": "execute_result",
          "data": {
            "text/plain": [
              "(1015, 1015)"
            ]
          },
          "metadata": {},
          "execution_count": 6
        }
      ]
    },
    {
      "cell_type": "code",
      "source": [
        "device = \"cuda\" if torch.cuda.is_available() else \"cpu\""
      ],
      "metadata": {
        "id": "p2p-CSZFw47G"
      },
      "execution_count": null,
      "outputs": []
    },
    {
      "cell_type": "code",
      "source": [
        "def summarize(model, tokenizer, Cases):\n",
        "\n",
        "  SystemSummaries = []\n",
        "  for i, case in enumerate(Cases):\n",
        "\n",
        "      input_ids = tokenizer(case, return_tensors=\"pt\").input_ids.to(device)\n",
        "      global_attention_mask = torch.zeros_like(input_ids)\n",
        "      global_attention_mask[:, 0] = 1\n",
        "      sequences = model.generate(input_ids, global_attention_mask=global_attention_mask)\n",
        "      Summary = tokenizer.batch_decode(sequences, skip_special_tokens=True)\n",
        "\n",
        "      SystemSummaries.append(Summary)\n",
        "      print(i)\n",
        "\n",
        "  return SystemSummaries"
      ],
      "metadata": {
        "id": "QAlmz76hw447"
      },
      "execution_count": null,
      "outputs": []
    },
    {
      "cell_type": "code",
      "source": [
        "checkpoint = \"d0r1h/led-base-ilc\"\n",
        "\n",
        "tokenizer_led = AutoTokenizer.from_pretrained(checkpoint)\n",
        "model_led = AutoModelForSeq2SeqLM.from_pretrained(checkpoint).to(device)"
      ],
      "metadata": {
        "id": "BZWSz2J9w421"
      },
      "execution_count": null,
      "outputs": []
    },
    {
      "cell_type": "code",
      "source": [
        "SystemSummary = summarize(model_led, tokenizer_led, CasesText)"
      ],
      "metadata": {
        "id": "bpiZ8YBZw400"
      },
      "execution_count": null,
      "outputs": []
    },
    {
      "cell_type": "code",
      "source": [
        "SystemSummaryFinal = []\n",
        "\n",
        "for i in SystemSummary:\n",
        "  SystemSummaryFinal.append((i[0]))"
      ],
      "metadata": {
        "id": "r1dAE_SOw4yk"
      },
      "execution_count": null,
      "outputs": []
    },
    {
      "cell_type": "code",
      "source": [
        "Summaries = pd.DataFrame(list(zip(GoldSummary, SystemSummaryFinal)), columns =['GoldSummary', 'SystemSummary'])"
      ],
      "metadata": {
        "id": "rC0COHsCw4wI"
      },
      "execution_count": null,
      "outputs": []
    },
    {
      "cell_type": "code",
      "source": [
        "dir_path = \"/content/drive/MyDrive/Working | Project/ILC/data/\""
      ],
      "metadata": {
        "id": "16wss4qoSDM_"
      },
      "execution_count": null,
      "outputs": []
    },
    {
      "cell_type": "code",
      "source": [
        "df1 = pd.read_csv(dir_path + \"Summaries1.csv\")\n",
        "df2 = pd.read_csv(dir_path + \"Summaries2.csv\")\n",
        "df3 = pd.read_csv(dir_path + \"Summaries3.csv\")\n",
        "df4 = pd.read_csv(dir_path + \"Summaries4.csv\")"
      ],
      "metadata": {
        "id": "O_xqB-iyTG01"
      },
      "execution_count": null,
      "outputs": []
    },
    {
      "cell_type": "code",
      "source": [
        "DF = pd.concat([df1, df2, df3, df4])\n",
        "DF.reset_index(inplace=True, drop=True)"
      ],
      "metadata": {
        "id": "i9y0lBRITGnx"
      },
      "execution_count": null,
      "outputs": []
    },
    {
      "cell_type": "code",
      "source": [
        "DF"
      ],
      "metadata": {
        "colab": {
          "base_uri": "https://localhost:8080/",
          "height": 424
        },
        "id": "tDbXOCLLTGk7",
        "outputId": "09fc3060-2fbe-47a6-c253-7b3861633304"
      },
      "execution_count": null,
      "outputs": [
        {
          "output_type": "execute_result",
          "data": {
            "text/plain": [
              "                                            GoldSummary  \\\n",
              "0     Section 86(1)(f) vests a statutory jurisdictio...   \n",
              "1     The petitioner apprehended arrest under Sectio...   \n",
              "2     The petitioner was arrested under Sections 344...   \n",
              "3     In matters concerning administrative appointme...   \n",
              "4     The facts and information of the suspected off...   \n",
              "...                                                 ...   \n",
              "1010  In the present case, an appeal is preferred un...   \n",
              "1011  Re-evaluation of answer sheets is not permissi...   \n",
              "1012  The presence of an alternate land that can be ...   \n",
              "1013  Bail may be granted to an individual who is ac...   \n",
              "1014  If no notice or opportunity of pre-decisional ...   \n",
              "\n",
              "                                          SystemSummary  \n",
              "0     In the case of Gujarat Urja Vikas Nigam Limite...  \n",
              "1     The case was taken up out of turn on the basis...  \n",
              "2     The petitioner is running Dance Party from man...  \n",
              "3     The petitioners were appointed as Inspectors i...  \n",
              "4     The FIR was registered on the basis of a repor...  \n",
              "...                                                 ...  \n",
              "1010  The court observed that the court has not inve...  \n",
              "1011  “If an error is committed by the examination a...  \n",
              "1012  The Landlord has a registered Society under th...  \n",
              "1013  The applicant is arrested on 18th November, 20...  \n",
              "1014  The court observed that the respondents are en...  \n",
              "\n",
              "[1015 rows x 2 columns]"
            ],
            "text/html": [
              "\n",
              "  <div id=\"df-ee4d3c6f-dff0-4b92-945b-b27ac1b370ca\">\n",
              "    <div class=\"colab-df-container\">\n",
              "      <div>\n",
              "<style scoped>\n",
              "    .dataframe tbody tr th:only-of-type {\n",
              "        vertical-align: middle;\n",
              "    }\n",
              "\n",
              "    .dataframe tbody tr th {\n",
              "        vertical-align: top;\n",
              "    }\n",
              "\n",
              "    .dataframe thead th {\n",
              "        text-align: right;\n",
              "    }\n",
              "</style>\n",
              "<table border=\"1\" class=\"dataframe\">\n",
              "  <thead>\n",
              "    <tr style=\"text-align: right;\">\n",
              "      <th></th>\n",
              "      <th>GoldSummary</th>\n",
              "      <th>SystemSummary</th>\n",
              "    </tr>\n",
              "  </thead>\n",
              "  <tbody>\n",
              "    <tr>\n",
              "      <th>0</th>\n",
              "      <td>Section 86(1)(f) vests a statutory jurisdictio...</td>\n",
              "      <td>In the case of Gujarat Urja Vikas Nigam Limite...</td>\n",
              "    </tr>\n",
              "    <tr>\n",
              "      <th>1</th>\n",
              "      <td>The petitioner apprehended arrest under Sectio...</td>\n",
              "      <td>The case was taken up out of turn on the basis...</td>\n",
              "    </tr>\n",
              "    <tr>\n",
              "      <th>2</th>\n",
              "      <td>The petitioner was arrested under Sections 344...</td>\n",
              "      <td>The petitioner is running Dance Party from man...</td>\n",
              "    </tr>\n",
              "    <tr>\n",
              "      <th>3</th>\n",
              "      <td>In matters concerning administrative appointme...</td>\n",
              "      <td>The petitioners were appointed as Inspectors i...</td>\n",
              "    </tr>\n",
              "    <tr>\n",
              "      <th>4</th>\n",
              "      <td>The facts and information of the suspected off...</td>\n",
              "      <td>The FIR was registered on the basis of a repor...</td>\n",
              "    </tr>\n",
              "    <tr>\n",
              "      <th>...</th>\n",
              "      <td>...</td>\n",
              "      <td>...</td>\n",
              "    </tr>\n",
              "    <tr>\n",
              "      <th>1010</th>\n",
              "      <td>In the present case, an appeal is preferred un...</td>\n",
              "      <td>The court observed that the court has not inve...</td>\n",
              "    </tr>\n",
              "    <tr>\n",
              "      <th>1011</th>\n",
              "      <td>Re-evaluation of answer sheets is not permissi...</td>\n",
              "      <td>“If an error is committed by the examination a...</td>\n",
              "    </tr>\n",
              "    <tr>\n",
              "      <th>1012</th>\n",
              "      <td>The presence of an alternate land that can be ...</td>\n",
              "      <td>The Landlord has a registered Society under th...</td>\n",
              "    </tr>\n",
              "    <tr>\n",
              "      <th>1013</th>\n",
              "      <td>Bail may be granted to an individual who is ac...</td>\n",
              "      <td>The applicant is arrested on 18th November, 20...</td>\n",
              "    </tr>\n",
              "    <tr>\n",
              "      <th>1014</th>\n",
              "      <td>If no notice or opportunity of pre-decisional ...</td>\n",
              "      <td>The court observed that the respondents are en...</td>\n",
              "    </tr>\n",
              "  </tbody>\n",
              "</table>\n",
              "<p>1015 rows × 2 columns</p>\n",
              "</div>\n",
              "      <button class=\"colab-df-convert\" onclick=\"convertToInteractive('df-ee4d3c6f-dff0-4b92-945b-b27ac1b370ca')\"\n",
              "              title=\"Convert this dataframe to an interactive table.\"\n",
              "              style=\"display:none;\">\n",
              "        \n",
              "  <svg xmlns=\"http://www.w3.org/2000/svg\" height=\"24px\"viewBox=\"0 0 24 24\"\n",
              "       width=\"24px\">\n",
              "    <path d=\"M0 0h24v24H0V0z\" fill=\"none\"/>\n",
              "    <path d=\"M18.56 5.44l.94 2.06.94-2.06 2.06-.94-2.06-.94-.94-2.06-.94 2.06-2.06.94zm-11 1L8.5 8.5l.94-2.06 2.06-.94-2.06-.94L8.5 2.5l-.94 2.06-2.06.94zm10 10l.94 2.06.94-2.06 2.06-.94-2.06-.94-.94-2.06-.94 2.06-2.06.94z\"/><path d=\"M17.41 7.96l-1.37-1.37c-.4-.4-.92-.59-1.43-.59-.52 0-1.04.2-1.43.59L10.3 9.45l-7.72 7.72c-.78.78-.78 2.05 0 2.83L4 21.41c.39.39.9.59 1.41.59.51 0 1.02-.2 1.41-.59l7.78-7.78 2.81-2.81c.8-.78.8-2.07 0-2.86zM5.41 20L4 18.59l7.72-7.72 1.47 1.35L5.41 20z\"/>\n",
              "  </svg>\n",
              "      </button>\n",
              "      \n",
              "  <style>\n",
              "    .colab-df-container {\n",
              "      display:flex;\n",
              "      flex-wrap:wrap;\n",
              "      gap: 12px;\n",
              "    }\n",
              "\n",
              "    .colab-df-convert {\n",
              "      background-color: #E8F0FE;\n",
              "      border: none;\n",
              "      border-radius: 50%;\n",
              "      cursor: pointer;\n",
              "      display: none;\n",
              "      fill: #1967D2;\n",
              "      height: 32px;\n",
              "      padding: 0 0 0 0;\n",
              "      width: 32px;\n",
              "    }\n",
              "\n",
              "    .colab-df-convert:hover {\n",
              "      background-color: #E2EBFA;\n",
              "      box-shadow: 0px 1px 2px rgba(60, 64, 67, 0.3), 0px 1px 3px 1px rgba(60, 64, 67, 0.15);\n",
              "      fill: #174EA6;\n",
              "    }\n",
              "\n",
              "    [theme=dark] .colab-df-convert {\n",
              "      background-color: #3B4455;\n",
              "      fill: #D2E3FC;\n",
              "    }\n",
              "\n",
              "    [theme=dark] .colab-df-convert:hover {\n",
              "      background-color: #434B5C;\n",
              "      box-shadow: 0px 1px 3px 1px rgba(0, 0, 0, 0.15);\n",
              "      filter: drop-shadow(0px 1px 2px rgba(0, 0, 0, 0.3));\n",
              "      fill: #FFFFFF;\n",
              "    }\n",
              "  </style>\n",
              "\n",
              "      <script>\n",
              "        const buttonEl =\n",
              "          document.querySelector('#df-ee4d3c6f-dff0-4b92-945b-b27ac1b370ca button.colab-df-convert');\n",
              "        buttonEl.style.display =\n",
              "          google.colab.kernel.accessAllowed ? 'block' : 'none';\n",
              "\n",
              "        async function convertToInteractive(key) {\n",
              "          const element = document.querySelector('#df-ee4d3c6f-dff0-4b92-945b-b27ac1b370ca');\n",
              "          const dataTable =\n",
              "            await google.colab.kernel.invokeFunction('convertToInteractive',\n",
              "                                                     [key], {});\n",
              "          if (!dataTable) return;\n",
              "\n",
              "          const docLinkHtml = 'Like what you see? Visit the ' +\n",
              "            '<a target=\"_blank\" href=https://colab.research.google.com/notebooks/data_table.ipynb>data table notebook</a>'\n",
              "            + ' to learn more about interactive tables.';\n",
              "          element.innerHTML = '';\n",
              "          dataTable['output_type'] = 'display_data';\n",
              "          await google.colab.output.renderOutput(dataTable, element);\n",
              "          const docLink = document.createElement('div');\n",
              "          docLink.innerHTML = docLinkHtml;\n",
              "          element.appendChild(docLink);\n",
              "        }\n",
              "      </script>\n",
              "    </div>\n",
              "  </div>\n",
              "  "
            ]
          },
          "metadata": {},
          "execution_count": 9
        }
      ]
    },
    {
      "cell_type": "code",
      "source": [
        "score = rouge.get_scores(DF['SystemSummary'], DF['GoldSummary'], avg=True)"
      ],
      "metadata": {
        "id": "KQM6CsnrBaS-"
      },
      "execution_count": null,
      "outputs": []
    },
    {
      "cell_type": "code",
      "source": [
        "LEDRouge = pd.DataFrame(score).set_index([['recaall','precision','f-measure']])"
      ],
      "metadata": {
        "id": "oDLIJOTqBaQR"
      },
      "execution_count": null,
      "outputs": []
    },
    {
      "cell_type": "code",
      "source": [
        "LEDRouge*100"
      ],
      "metadata": {
        "colab": {
          "base_uri": "https://localhost:8080/",
          "height": 143
        },
        "id": "eaiw0Y4eBaOE",
        "outputId": "277a23a0-c331-4008-bc96-8588bb96dc63"
      },
      "execution_count": null,
      "outputs": [
        {
          "output_type": "execute_result",
          "data": {
            "text/plain": [
              "             rouge-1    rouge-2    rouge-l\n",
              "recaall    40.039816  22.343800  37.250347\n",
              "precision  46.313938  25.252847  43.097858\n",
              "f-measure  42.240362  23.187177  39.304978"
            ],
            "text/html": [
              "\n",
              "  <div id=\"df-39f23fad-f3ba-4cea-b478-b06da6b04d7b\">\n",
              "    <div class=\"colab-df-container\">\n",
              "      <div>\n",
              "<style scoped>\n",
              "    .dataframe tbody tr th:only-of-type {\n",
              "        vertical-align: middle;\n",
              "    }\n",
              "\n",
              "    .dataframe tbody tr th {\n",
              "        vertical-align: top;\n",
              "    }\n",
              "\n",
              "    .dataframe thead th {\n",
              "        text-align: right;\n",
              "    }\n",
              "</style>\n",
              "<table border=\"1\" class=\"dataframe\">\n",
              "  <thead>\n",
              "    <tr style=\"text-align: right;\">\n",
              "      <th></th>\n",
              "      <th>rouge-1</th>\n",
              "      <th>rouge-2</th>\n",
              "      <th>rouge-l</th>\n",
              "    </tr>\n",
              "  </thead>\n",
              "  <tbody>\n",
              "    <tr>\n",
              "      <th>recaall</th>\n",
              "      <td>40.039816</td>\n",
              "      <td>22.343800</td>\n",
              "      <td>37.250347</td>\n",
              "    </tr>\n",
              "    <tr>\n",
              "      <th>precision</th>\n",
              "      <td>46.313938</td>\n",
              "      <td>25.252847</td>\n",
              "      <td>43.097858</td>\n",
              "    </tr>\n",
              "    <tr>\n",
              "      <th>f-measure</th>\n",
              "      <td>42.240362</td>\n",
              "      <td>23.187177</td>\n",
              "      <td>39.304978</td>\n",
              "    </tr>\n",
              "  </tbody>\n",
              "</table>\n",
              "</div>\n",
              "      <button class=\"colab-df-convert\" onclick=\"convertToInteractive('df-39f23fad-f3ba-4cea-b478-b06da6b04d7b')\"\n",
              "              title=\"Convert this dataframe to an interactive table.\"\n",
              "              style=\"display:none;\">\n",
              "        \n",
              "  <svg xmlns=\"http://www.w3.org/2000/svg\" height=\"24px\"viewBox=\"0 0 24 24\"\n",
              "       width=\"24px\">\n",
              "    <path d=\"M0 0h24v24H0V0z\" fill=\"none\"/>\n",
              "    <path d=\"M18.56 5.44l.94 2.06.94-2.06 2.06-.94-2.06-.94-.94-2.06-.94 2.06-2.06.94zm-11 1L8.5 8.5l.94-2.06 2.06-.94-2.06-.94L8.5 2.5l-.94 2.06-2.06.94zm10 10l.94 2.06.94-2.06 2.06-.94-2.06-.94-.94-2.06-.94 2.06-2.06.94z\"/><path d=\"M17.41 7.96l-1.37-1.37c-.4-.4-.92-.59-1.43-.59-.52 0-1.04.2-1.43.59L10.3 9.45l-7.72 7.72c-.78.78-.78 2.05 0 2.83L4 21.41c.39.39.9.59 1.41.59.51 0 1.02-.2 1.41-.59l7.78-7.78 2.81-2.81c.8-.78.8-2.07 0-2.86zM5.41 20L4 18.59l7.72-7.72 1.47 1.35L5.41 20z\"/>\n",
              "  </svg>\n",
              "      </button>\n",
              "      \n",
              "  <style>\n",
              "    .colab-df-container {\n",
              "      display:flex;\n",
              "      flex-wrap:wrap;\n",
              "      gap: 12px;\n",
              "    }\n",
              "\n",
              "    .colab-df-convert {\n",
              "      background-color: #E8F0FE;\n",
              "      border: none;\n",
              "      border-radius: 50%;\n",
              "      cursor: pointer;\n",
              "      display: none;\n",
              "      fill: #1967D2;\n",
              "      height: 32px;\n",
              "      padding: 0 0 0 0;\n",
              "      width: 32px;\n",
              "    }\n",
              "\n",
              "    .colab-df-convert:hover {\n",
              "      background-color: #E2EBFA;\n",
              "      box-shadow: 0px 1px 2px rgba(60, 64, 67, 0.3), 0px 1px 3px 1px rgba(60, 64, 67, 0.15);\n",
              "      fill: #174EA6;\n",
              "    }\n",
              "\n",
              "    [theme=dark] .colab-df-convert {\n",
              "      background-color: #3B4455;\n",
              "      fill: #D2E3FC;\n",
              "    }\n",
              "\n",
              "    [theme=dark] .colab-df-convert:hover {\n",
              "      background-color: #434B5C;\n",
              "      box-shadow: 0px 1px 3px 1px rgba(0, 0, 0, 0.15);\n",
              "      filter: drop-shadow(0px 1px 2px rgba(0, 0, 0, 0.3));\n",
              "      fill: #FFFFFF;\n",
              "    }\n",
              "  </style>\n",
              "\n",
              "      <script>\n",
              "        const buttonEl =\n",
              "          document.querySelector('#df-39f23fad-f3ba-4cea-b478-b06da6b04d7b button.colab-df-convert');\n",
              "        buttonEl.style.display =\n",
              "          google.colab.kernel.accessAllowed ? 'block' : 'none';\n",
              "\n",
              "        async function convertToInteractive(key) {\n",
              "          const element = document.querySelector('#df-39f23fad-f3ba-4cea-b478-b06da6b04d7b');\n",
              "          const dataTable =\n",
              "            await google.colab.kernel.invokeFunction('convertToInteractive',\n",
              "                                                     [key], {});\n",
              "          if (!dataTable) return;\n",
              "\n",
              "          const docLinkHtml = 'Like what you see? Visit the ' +\n",
              "            '<a target=\"_blank\" href=https://colab.research.google.com/notebooks/data_table.ipynb>data table notebook</a>'\n",
              "            + ' to learn more about interactive tables.';\n",
              "          element.innerHTML = '';\n",
              "          dataTable['output_type'] = 'display_data';\n",
              "          await google.colab.output.renderOutput(dataTable, element);\n",
              "          const docLink = document.createElement('div');\n",
              "          docLink.innerHTML = docLinkHtml;\n",
              "          element.appendChild(docLink);\n",
              "        }\n",
              "      </script>\n",
              "    </div>\n",
              "  </div>\n",
              "  "
            ]
          },
          "metadata": {},
          "execution_count": 15
        }
      ]
    },
    {
      "cell_type": "code",
      "source": [
        "DF.to_csv(dir_path + \"LEDPrediction.csv\", index=False, header=True)"
      ],
      "metadata": {
        "id": "qPJ1K5BgBZzq"
      },
      "execution_count": null,
      "outputs": []
    },
    {
      "cell_type": "code",
      "source": [
        "LEDRouge.to_csv(\"/content/drive/MyDrive/Working | Project/ILC/score/LEDRouge.csv\", header=True)"
      ],
      "metadata": {
        "id": "G_BVYmG_EBAi"
      },
      "execution_count": null,
      "outputs": []
    }
  ]
}